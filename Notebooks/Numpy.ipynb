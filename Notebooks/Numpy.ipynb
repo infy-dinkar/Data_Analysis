{
  "cells": [
    {
      "cell_type": "markdown",
      "metadata": {
        "id": "49MpGcxUJomN"
      },
      "source": [
        "\n",
        "                                                             NUMPY\n",
        "It is a fundamental library for Scientific Calculations in Python.\n",
        "It providesupport for Arrays and Matrices along with collection of Mathematical functions to operate over these Data Structure.\n",
        "                                                             "
      ]
    },
    {
      "cell_type": "code",
      "execution_count": 1,
      "metadata": {
        "colab": {
          "base_uri": "https://localhost:8080/"
        },
        "id": "zXQfLvWXJ0Mz",
        "outputId": "aacec1d5-7bf4-4f54-cfa2-10fad85628ef"
      },
      "outputs": [
        {
          "name": "stdout",
          "output_type": "stream",
          "text": [
            "Defaulting to user installation because normal site-packages is not writeable\n",
            "Requirement already satisfied: numpy in c:\\users\\dinka\\appdata\\local\\packages\\pythonsoftwarefoundation.python.3.12_qbz5n2kfra8p0\\localcache\\local-packages\\python312\\site-packages (2.2.2)\n"
          ]
        }
      ],
      "source": [
        "! pip install numpy"
      ]
    },
    {
      "cell_type": "code",
      "execution_count": 2,
      "metadata": {
        "id": "Ep_Jn15PK8kD"
      },
      "outputs": [],
      "source": [
        "import numpy as np"
      ]
    },
    {
      "cell_type": "code",
      "execution_count": 3,
      "metadata": {
        "colab": {
          "base_uri": "https://localhost:8080/"
        },
        "id": "EmgVQjVYLRLZ",
        "outputId": "d7e996b7-62ae-4803-80c1-a040468c568c"
      },
      "outputs": [
        {
          "name": "stdout",
          "output_type": "stream",
          "text": [
            "[1 2 3 4 5]\n",
            "<class 'numpy.ndarray'>\n",
            "(5,)\n"
          ]
        }
      ],
      "source": [
        "arr1=np.array([1,2,3,4,5])\n",
        "print(arr1)\n",
        "print(type(arr1)) ## type --> for type of array\n",
        "print(arr1.shape) ## .shape--> for dimension of array"
      ]
    },
    {
      "cell_type": "code",
      "execution_count": 4,
      "metadata": {
        "colab": {
          "base_uri": "https://localhost:8080/"
        },
        "id": "sswzYgWyLsQU",
        "outputId": "cd16b39a-ff31-40fa-a30b-15b5d75878a3"
      },
      "outputs": [
        {
          "name": "stdout",
          "output_type": "stream",
          "text": [
            "[1 2 3 4 5]\n"
          ]
        },
        {
          "data": {
            "text/plain": [
              "(5,)"
            ]
          },
          "execution_count": 4,
          "metadata": {},
          "output_type": "execute_result"
        }
      ],
      "source": [
        "# 1D array\n",
        "arr2=np.array([1,2,3,4,5])\n",
        "arr2.reshape(1,5) # 1 row 5 colums\n",
        "print(arr2)\n",
        "arr2.shape\n"
      ]
    },
    {
      "cell_type": "code",
      "execution_count": 5,
      "metadata": {
        "colab": {
          "base_uri": "https://localhost:8080/"
        },
        "id": "fMBcmm_2oAXF",
        "outputId": "fabd3640-f7ee-4115-c709-d8e91f456021"
      },
      "outputs": [
        {
          "name": "stdout",
          "output_type": "stream",
          "text": [
            "[[1 2 3]\n",
            " [4 5 6]\n",
            " [7 8 9]]\n",
            "(3, 3)\n"
          ]
        }
      ],
      "source": [
        "arr3=np.array([[1,2,3],[4,5,6],[7,8,9]])\n",
        "print(arr3)\n",
        "print(arr3.shape)"
      ]
    },
    {
      "cell_type": "code",
      "execution_count": 6,
      "metadata": {
        "colab": {
          "base_uri": "https://localhost:8080/"
        },
        "id": "LKlI4Kbko4Ai",
        "outputId": "8e581fd6-77aa-4561-fbcf-2674ca2d8712"
      },
      "outputs": [
        {
          "name": "stdout",
          "output_type": "stream",
          "text": [
            "[0 2 4 6 8]\n"
          ]
        }
      ],
      "source": [
        "arr5=np.arange(0,10,2) # 0-->start from zero(inclusive),10-->go till 10 (exclusive),2-->jump two numbers.\n",
        "print(arr5) #arange function creates continous array."
      ]
    },
    {
      "cell_type": "code",
      "execution_count": 7,
      "metadata": {
        "colab": {
          "base_uri": "https://localhost:8080/"
        },
        "id": "PrKoqlWfpMie",
        "outputId": "9487ef24-bd60-446a-f75d-23353c675ad3"
      },
      "outputs": [
        {
          "data": {
            "text/plain": [
              "array([[0],\n",
              "       [2],\n",
              "       [4],\n",
              "       [6],\n",
              "       [8]])"
            ]
          },
          "execution_count": 7,
          "metadata": {},
          "output_type": "execute_result"
        }
      ],
      "source": [
        "arr5.reshape(5,1) # Here new copy is formed .\n"
      ]
    },
    {
      "cell_type": "code",
      "execution_count": 8,
      "metadata": {
        "colab": {
          "base_uri": "https://localhost:8080/"
        },
        "id": "zgzXAhzupyTC",
        "outputId": "8b5099f8-8e1d-44ce-c10e-fb6562958e82"
      },
      "outputs": [
        {
          "data": {
            "text/plain": [
              "array([[1., 1., 1., 1.],\n",
              "       [1., 1., 1., 1.],\n",
              "       [1., 1., 1., 1.]])"
            ]
          },
          "execution_count": 8,
          "metadata": {},
          "output_type": "execute_result"
        }
      ],
      "source": [
        "np.ones((3,4)) # creates an array of one i.e-->1 of given dimension."
      ]
    },
    {
      "cell_type": "code",
      "execution_count": 9,
      "metadata": {
        "colab": {
          "base_uri": "https://localhost:8080/"
        },
        "id": "LKqvbZ4hqaSk",
        "outputId": "9601fbcf-ec95-4b6e-9fd9-c4790c4b0167"
      },
      "outputs": [
        {
          "data": {
            "text/plain": [
              "array([[1., 0., 0.],\n",
              "       [0., 1., 0.],\n",
              "       [0., 0., 1.]])"
            ]
          },
          "execution_count": 9,
          "metadata": {},
          "output_type": "execute_result"
        }
      ],
      "source": [
        "np.eye(3) # creates identity matrix of given dimension.\n"
      ]
    },
    {
      "cell_type": "code",
      "execution_count": 10,
      "metadata": {
        "colab": {
          "base_uri": "https://localhost:8080/"
        },
        "id": "C3YQjhiErfSk",
        "outputId": "5b7dcd02-92a9-45b1-e849-8551fbba6285"
      },
      "outputs": [
        {
          "data": {
            "text/plain": [
              "array([[0., 0., 1., 0., 0.],\n",
              "       [0., 0., 0., 1., 0.],\n",
              "       [0., 0., 0., 0., 1.],\n",
              "       [0., 0., 0., 0., 0.]])"
            ]
          },
          "execution_count": 10,
          "metadata": {},
          "output_type": "execute_result"
        }
      ],
      "source": [
        "np.eye(4,5,2) #eye(n,m,p) n-->no of rows.  m -->no of colums(optional) .  p-->from which column we have to pave 1(optional)."
      ]
    },
    {
      "cell_type": "code",
      "execution_count": 11,
      "metadata": {
        "colab": {
          "base_uri": "https://localhost:8080/"
        },
        "id": "aSybw9tksX07",
        "outputId": "e1cbfab2-e511-424c-cb08-8bc845dee8fc"
      },
      "outputs": [
        {
          "name": "stdout",
          "output_type": "stream",
          "text": [
            "[[1 2 3]\n",
            " [4 5 6]\n",
            " [7 8 9]]\n",
            "dimesion of array: (3, 3)\n",
            "dimension i.e 1d,2d..: 2\n",
            "size(number of elements): 9\n",
            "Data type: int64\n",
            "size of each elements: 8\n"
          ]
        }
      ],
      "source": [
        "arr6=np.array([[1,2,3],[4,5,6],[7,8,9]])\n",
        "print(arr6)\n",
        "print(\"dimesion of array:\",arr6.shape)           # .shape\n",
        "print(\"dimension i.e 1d,2d..:\",arr6.ndim)        #.ndim\n",
        "print(\"size(number of elements):\",arr6.size)     # .size\n",
        "print(\"Data type:\",arr6.dtype)                   #.dtype\n",
        "print(\"size of each elements:\",arr6.itemsize)    # .itemsize\n",
        "#Above are the Attributes of Numpy ARRAY.\n"
      ]
    },
    {
      "cell_type": "code",
      "execution_count": 12,
      "metadata": {
        "colab": {
          "base_uri": "https://localhost:8080/"
        },
        "id": "Yp78yGDT-HSU",
        "outputId": "7af91c90-eede-4c51-c43f-4ba27398698a"
      },
      "outputs": [
        {
          "name": "stdout",
          "output_type": "stream",
          "text": [
            "Addition: [11 22 33 44 55]\n",
            "Substraction: [ -9 -18 -27 -36 -45]\n",
            "Multiplication: [ 10  40  90 160 250]\n",
            "Division: [0.1 0.1 0.1 0.1 0.1]\n"
          ]
        }
      ],
      "source": [
        "### Numpy Vectorized Operation\n",
        "arr1=np.array([1,2,3,4,5])\n",
        "arr2=np.array([10,20,30,40,50])\n",
        "\n",
        "### Element Wise addition\n",
        "print(\"Addition:\", arr1+arr2)\n",
        "\n",
        "## Element Wise Substraction\n",
        "print(\"Substraction:\", arr1-arr2)\n",
        "\n",
        "# Element-wise multiplication\n",
        "print(\"Multiplication:\", arr1 * arr2)\n",
        "\n",
        "# Element-wise division\n",
        "print(\"Division:\", arr1 / arr2)"
      ]
    },
    {
      "cell_type": "code",
      "execution_count": 13,
      "metadata": {
        "colab": {
          "base_uri": "https://localhost:8080/"
        },
        "id": "wDrstpho-IcO",
        "outputId": "11533f92-4afb-4fd7-cc5b-c16bd42563ba"
      },
      "outputs": [
        {
          "name": "stdout",
          "output_type": "stream",
          "text": [
            "[1.41421356 1.73205081 2.         2.23606798 2.44948974]\n",
            "[  7.3890561   20.08553692  54.59815003 148.4131591  403.42879349]\n",
            "[ 0.90929743  0.14112001 -0.7568025  -0.95892427 -0.2794155 ]\n",
            "[0.69314718 1.09861229 1.38629436 1.60943791 1.79175947]\n"
          ]
        }
      ],
      "source": [
        "## Universal Function\n",
        "arr=np.array([2,3,4,5,6])\n",
        "## square root\n",
        "print(np.sqrt(arr))\n",
        "\n",
        "## Exponential\n",
        "print(np.exp(arr))\n",
        "\n",
        "## Sine\n",
        "print(np.sin(arr))\n",
        "\n",
        "## natural log\n",
        "print(np.log(arr))"
      ]
    },
    {
      "cell_type": "code",
      "execution_count": 14,
      "metadata": {
        "colab": {
          "base_uri": "https://localhost:8080/"
        },
        "id": "1seZsncKBGbv",
        "outputId": "7db88cc5-64ea-4b88-d090-66d29092a0bb"
      },
      "outputs": [
        {
          "name": "stdout",
          "output_type": "stream",
          "text": [
            "Array : \n",
            " [[ 1  2  3  4]\n",
            " [ 5  6  7  8]\n",
            " [ 9 10 11 12]]\n"
          ]
        }
      ],
      "source": [
        "## array slicing and Indexing\n",
        "\n",
        "arr6=np.array([[1,2,3,4],[5,6,7,8],[9,10,11,12]])\n",
        "print(\"Array : \\n\", arr6)"
      ]
    },
    {
      "cell_type": "code",
      "execution_count": 15,
      "metadata": {
        "colab": {
          "base_uri": "https://localhost:8080/"
        },
        "id": "dfy8sYaEBLIR",
        "outputId": "20b999b4-8f73-4478-ff12-91b874b57198"
      },
      "outputs": [
        {
          "name": "stdout",
          "output_type": "stream",
          "text": [
            "[[ 6  7]\n",
            " [10 11]]\n"
          ]
        }
      ],
      "source": [
        "print(arr6[1:,1:3]) # 3 is exclusive"
      ]
    },
    {
      "cell_type": "code",
      "execution_count": 16,
      "metadata": {
        "colab": {
          "base_uri": "https://localhost:8080/"
        },
        "id": "XOUEjZiIDwYf",
        "outputId": "8f16c98e-bd35-4157-e52e-b5e78b197bf2"
      },
      "outputs": [
        {
          "name": "stdout",
          "output_type": "stream",
          "text": [
            "1\n",
            "[[3 4]\n",
            " [7 8]]\n"
          ]
        }
      ],
      "source": [
        "print(arr6[0][0])\n",
        "print(arr6[0:2,2:])"
      ]
    },
    {
      "cell_type": "code",
      "execution_count": 17,
      "metadata": {
        "colab": {
          "base_uri": "https://localhost:8080/"
        },
        "id": "iT723vQxD9Mp",
        "outputId": "d18a5033-19c5-4073-a5aa-0300f7b799b2"
      },
      "outputs": [
        {
          "data": {
            "text/plain": [
              "array([[ 7,  8],\n",
              "       [11, 12]])"
            ]
          },
          "execution_count": 17,
          "metadata": {},
          "output_type": "execute_result"
        }
      ],
      "source": [
        "arr6[1:,2:]"
      ]
    },
    {
      "cell_type": "code",
      "execution_count": 18,
      "metadata": {
        "colab": {
          "base_uri": "https://localhost:8080/"
        },
        "id": "pUdbdkJJEfvl",
        "outputId": "08eaa4a6-aaee-4513-90d4-bee365077fd5"
      },
      "outputs": [
        {
          "name": "stdout",
          "output_type": "stream",
          "text": [
            "[[100   2   3   4]\n",
            " [  5   6   7   8]\n",
            " [  9  10  11  12]]\n"
          ]
        }
      ],
      "source": [
        "## Modify array elements\n",
        "arr6[0,0]=100\n",
        "print(arr6)"
      ]
    },
    {
      "cell_type": "code",
      "execution_count": 19,
      "metadata": {
        "colab": {
          "base_uri": "https://localhost:8080/"
        },
        "id": "6uqx-b-tEjLz",
        "outputId": "72c5a461-530c-4d39-d82a-510b2b4611d0"
      },
      "outputs": [
        {
          "name": "stdout",
          "output_type": "stream",
          "text": [
            "[[100   2   3   4]\n",
            " [100 100 100 100]\n",
            " [100 100 100 100]]\n"
          ]
        }
      ],
      "source": [
        "arr6[1:]=100\n",
        "print(arr6)"
      ]
    },
    {
      "cell_type": "code",
      "execution_count": 20,
      "metadata": {
        "colab": {
          "base_uri": "https://localhost:8080/"
        },
        "id": "e_sOI2QuEsR-",
        "outputId": "3d3b9606-fe0d-4906-8203-4356b7ea87a0"
      },
      "outputs": [
        {
          "name": "stdout",
          "output_type": "stream",
          "text": [
            "Normalized data: [-1.41421356 -0.70710678  0.          0.70710678  1.41421356]\n"
          ]
        }
      ],
      "source": [
        "### statistical concepts--Normalization\n",
        "##to have a mean of 0 and standard deviation of 1\n",
        "data = np.array([1, 2, 3, 4, 5])\n",
        "\n",
        "# Calculate the mean and standard deviation\n",
        "mean = np.mean(data)\n",
        "std_dev = np.std(data)\n",
        "\n",
        "# Normalize the data\n",
        "normalized_data = (data - mean) / std_dev\n",
        "print(\"Normalized data:\", normalized_data)\n"
      ]
    },
    {
      "cell_type": "code",
      "execution_count": 21,
      "metadata": {
        "colab": {
          "base_uri": "https://localhost:8080/"
        },
        "id": "VoYIc1q5E337",
        "outputId": "3c40ffaf-402a-4440-99f3-2c62d1965c53"
      },
      "outputs": [
        {
          "name": "stdout",
          "output_type": "stream",
          "text": [
            "Mean: 5.5\n",
            "Median: 5.5\n",
            "Standard Deviation: 2.8722813232690143\n",
            "Variance: 8.25\n"
          ]
        }
      ],
      "source": [
        "data = np.array([1, 2, 3, 4, 5, 6, 7, 8, 9, 10])\n",
        "\n",
        "# Mean\n",
        "mean = np.mean(data)                              #np.mean()\n",
        "print(\"Mean:\", mean)\n",
        "\n",
        "# Median\n",
        "median = np.median(data)                          #np.median()\n",
        "print(\"Median:\", median)\n",
        "\n",
        "# Standard deviation\n",
        "std_dev = np.std(data)                             #np.std()\n",
        "print(\"Standard Deviation:\", std_dev)\n",
        "\n",
        "# Variance\n",
        "variance = np.var(data)                           #np.var()\n",
        "print(\"Variance:\", variance)\n"
      ]
    },
    {
      "cell_type": "code",
      "execution_count": 22,
      "metadata": {
        "colab": {
          "base_uri": "https://localhost:8080/"
        },
        "id": "z5TQpu6nFK3n",
        "outputId": "a97a390a-7ee4-49c3-9b53-e5222e6c87c1"
      },
      "outputs": [
        {
          "data": {
            "text/plain": [
              "array([5, 6, 7, 8])"
            ]
          },
          "execution_count": 22,
          "metadata": {},
          "output_type": "execute_result"
        }
      ],
      "source": [
        "## Logical operation\n",
        "data=np.array([1,2,3,4,5,6,7,8,9,10])\n",
        "\n",
        "data[(data>=5) & (data<=8)]"
      ]
    },
    {
      "cell_type": "code",
      "execution_count": null,
      "metadata": {
        "id": "Zcjg1ziIFL2m"
      },
      "outputs": [],
      "source": []
    }
  ],
  "metadata": {
    "colab": {
      "provenance": []
    },
    "kernelspec": {
      "display_name": "Python 3",
      "name": "python3"
    },
    "language_info": {
      "codemirror_mode": {
        "name": "ipython",
        "version": 3
      },
      "file_extension": ".py",
      "mimetype": "text/x-python",
      "name": "python",
      "nbconvert_exporter": "python",
      "pygments_lexer": "ipython3",
      "version": "3.12.8"
    }
  },
  "nbformat": 4,
  "nbformat_minor": 0
}
